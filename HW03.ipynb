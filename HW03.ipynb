{
 "cells": [
  {
   "cell_type": "code",
   "execution_count": 180,
   "metadata": {},
   "outputs": [
    {
     "name": "stdout",
     "output_type": "stream",
     "text": [
      "8478\n",
      "1209 263 138 163 3410 130 577 256 565 489\n",
      "110 438 52 152 75 378 24 1 44 3\n",
      "0\n"
     ]
    }
   ],
   "source": [
    "import csv\n",
    "\n",
    "type01=type02=type03=type04=type05=type06=type07=type08=type09=type10=0\n",
    "type11=type12=type13=type14=type15=type16=type17=type18=type19=type20=0\n",
    "type21=0\n",
    "number=0\n",
    "\n",
    "f = open('C:\\\\Users\\\\Kunying\\\\HW03A.csv','r', encoding='utf-8-sig') \n",
    "rows = csv.reader(f, delimiter=',')\n",
    "for row in rows:\n",
    "    if row[1] == '動作':\n",
    "        type01=type01+1\n",
    "    if row[1] == '冒險':\n",
    "        type02=type02+1\n",
    "    if row[1] == '科幻':\n",
    "        type03=type03+1\n",
    "    if row[1] == '奇幻':\n",
    "        type04=type04+1\n",
    "    if row[1] == '劇情':\n",
    "        type05=type05+1\n",
    "    if row[1] == '犯罪':\n",
    "        type06=type06+1\n",
    "    if row[1] == '恐怖':\n",
    "        type07=type07+1\n",
    "    if row[1] == '懸疑/驚悚':\n",
    "        type08=type08+1\n",
    "    if row[1] == '喜劇':\n",
    "        type09=type09+1\n",
    "    if row[1] == '愛情':\n",
    "        type10=type10+1\n",
    "    if row[1] == '溫馨/家庭':\n",
    "        type11=type11+1\n",
    "    if row[1] == '動畫':\n",
    "        type12=type12+1\n",
    "    if row[1] == '戰爭':\n",
    "        type13=type13+1\n",
    "    if row[1] == '音樂/歌舞':\n",
    "        type14=type14+1\n",
    "    if row[1] == '歷史/傳記':\n",
    "        type15=type15+1\n",
    "    if row[1] == '紀錄片':\n",
    "        type16=type16+1\n",
    "    if row[1] == '勵志':\n",
    "        type17=type17+1\n",
    "    if row[1] == '武俠':\n",
    "        type18=type18+1\n",
    "    if row[1] == '影展':\n",
    "        type19=type19+1\n",
    "    if row[1] == '戲劇':\n",
    "        type20=type20+1\n",
    "    if row[1] == '影集':\n",
    "        type21=type21+1\n",
    "    number=number+1\n",
    "print (number)\n",
    "\n",
    "print (type01,type02,type03,type04,type05,type06,type07,type08,type09,type10)\n",
    "print (type11,type12,type13,type14,type15,type16,type17,type18,type19,type20)\n",
    "print (type21)\n",
    "\n",
    "\n"
   ]
  },
  {
   "cell_type": "code",
   "execution_count": null,
   "metadata": {},
   "outputs": [],
   "source": []
  },
  {
   "cell_type": "code",
   "execution_count": null,
   "metadata": {},
   "outputs": [],
   "source": []
  }
 ],
 "metadata": {
  "kernelspec": {
   "display_name": "Python 3",
   "language": "python",
   "name": "python3"
  },
  "language_info": {
   "codemirror_mode": {
    "name": "ipython",
    "version": 3
   },
   "file_extension": ".py",
   "mimetype": "text/x-python",
   "name": "python",
   "nbconvert_exporter": "python",
   "pygments_lexer": "ipython3",
   "version": "3.7.1"
  }
 },
 "nbformat": 4,
 "nbformat_minor": 2
}
