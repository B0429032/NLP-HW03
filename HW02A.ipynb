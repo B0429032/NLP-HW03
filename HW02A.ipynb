{
 "cells": [
  {
   "cell_type": "code",
   "execution_count": null,
   "metadata": {},
   "outputs": [],
   "source": [
    "# Example： 奇摩電影\n",
    "import requests\n",
    "from bs4 import BeautifulSoup\n",
    "\n",
    "import csv\n",
    "\n",
    "with open('HW02.csv', 'w', encoding='utf-8-sig', newline='') as csv_file:\n",
    "    csv_writer = csv.writer(csv_file)\n",
    "    csv_writer.writerow(['名稱', '分類', '劇情介紹','上映⽇期'])\n",
    "    for id_number in range(1, 11400):\n",
    "        url = 'https://movies.yahoo.com.tw/movieinfo_main/id='\n",
    "        r = requests.get(url+ str(id_number))\n",
    "        soup = BeautifulSoup(r.text)\n",
    "        soup\n",
    "\n",
    "\n",
    "\n",
    "        for d in soup.find_all('div', class_=\"movie_intro_info_r\"):\n",
    "            name = d.find('h1', class_=\"\").text.strip()\n",
    "        level_name_box = d.find('div', class_=\"level_name_box\").text.strip()\n",
    "\n",
    "        for d in soup.find_all('div', class_=\"gray_infobox storeinfo\"):\n",
    "            story = d.find('div', class_=\"gray_infobox_inner\").text.split('詳全文')[0].strip()\n",
    "\n",
    "\n",
    "        for d in soup.find_all('div', class_=\"movie_intro_info_r\"):\n",
    "            release_time = d.find('span', class_=\"\").text.split('：')[-1].strip()\n",
    "    \n",
    "        csv_writer.writerow([name, level_name_box, story, release_time])\n",
    "        \n",
    "                       "
   ]
  },
  {
   "cell_type": "code",
   "execution_count": null,
   "metadata": {},
   "outputs": [],
   "source": []
  },
  {
   "cell_type": "code",
   "execution_count": null,
   "metadata": {},
   "outputs": [],
   "source": []
  },
  {
   "cell_type": "code",
   "execution_count": null,
   "metadata": {},
   "outputs": [],
   "source": []
  },
  {
   "cell_type": "code",
   "execution_count": null,
   "metadata": {},
   "outputs": [],
   "source": []
  }
 ],
 "metadata": {
  "kernelspec": {
   "display_name": "Python 3",
   "language": "python",
   "name": "python3"
  },
  "language_info": {
   "codemirror_mode": {
    "name": "ipython",
    "version": 3
   },
   "file_extension": ".py",
   "mimetype": "text/x-python",
   "name": "python",
   "nbconvert_exporter": "python",
   "pygments_lexer": "ipython3",
   "version": "3.7.1"
  }
 },
 "nbformat": 4,
 "nbformat_minor": 2
}
